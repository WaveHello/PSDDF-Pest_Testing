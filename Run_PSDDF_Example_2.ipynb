{
 "cells": [
  {
   "cell_type": "code",
   "execution_count": 5,
   "metadata": {},
   "outputs": [],
   "source": [
    "# Library imports\n",
    "import os   \n",
    "import subprocess"
   ]
  },
  {
   "attachments": {},
   "cell_type": "markdown",
   "metadata": {},
   "source": [
    "Folder requirements to run the software:\n",
    "\n",
    "1) PSDDF Executable\n",
    "2) PSI File (Includes all the information necessary for the model definition)\n",
    "3) Jupyter Notebook ????"
   ]
  },
  {
   "cell_type": "code",
   "execution_count": 6,
   "metadata": {},
   "outputs": [],
   "source": [
    "# Name of the example that should be run\n",
    "ExampleName = \"Example1\"\n",
    "\n",
    "# Generate Results Name - will be used for writing output files\n",
    "ResultsName = ExampleName + \"_Res\\n\"\n",
    "\n",
    "# Folder containing the PSDDF and the Jupyter notebook\n",
    "FolderDir = r\"C:\\Users\\u4hncjjm\\Documents\\PSDDF\"\n",
    "\n",
    "# Subfolder appended to Dir to store results\n",
    "localResultsFolder = \"Res\" # Subfolder that is created to store the Results from PSDDF"
   ]
  },
  {
   "cell_type": "code",
   "execution_count": 9,
   "metadata": {},
   "outputs": [
    {
     "name": "stdout",
     "output_type": "stream",
     "text": [
      "[WinError 183] Cannot create a file when that file already exists: 'Res'\n"
     ]
    }
   ],
   "source": [
    "# Make Results File\n",
    "localResultsDir = \"Res\\\\\" + ResultsName\n",
    "\n",
    "try:\n",
    "    # Try making the Results file\n",
    "    os.makedirs(localResultsFolder)\n",
    "\n",
    "# If it is not possible to make the results file -> print error \n",
    "except Exception as e: print(e)"
   ]
  },
  {
   "attachments": {},
   "cell_type": "markdown",
   "metadata": {},
   "source": [
    "ResultsDir is currently not used. The filename input to PSDDF is too short to allow for other directories. A possible solution is to create a temp folder in the input directory, then move the files the final directory that the user inputs. \n",
    "\n",
    "**** This hasn't been implemented ****"
   ]
  },
  {
   "cell_type": "code",
   "execution_count": 10,
   "metadata": {},
   "outputs": [],
   "source": [
    "# Create the directory that results should be stored in \n",
    "ResultsDir = FolderDir + \"\\\\\" + localResultsFolder + \"\\\\\" +  ResultsName # Variable not currently used"
   ]
  },
  {
   "cell_type": "code",
   "execution_count": 7,
   "metadata": {},
   "outputs": [],
   "source": [
    "# Name of the addamse file\n",
    "addamse_FileName =  r\"addamse.tmp\"\n",
    "\n",
    "# Open and edit the addamse.tmp file so that the first line is PCP a: \"PSI filename\"\n",
    "addamse_file = open(addamse_FileName, \"w\")\n",
    "addamse_file_str = \"PCP                                   a:                                   \" + ExampleName\n",
    "addamse_file.write(addamse_file_str)\n",
    "addamse_file.close()"
   ]
  },
  {
   "attachments": {},
   "cell_type": "markdown",
   "metadata": {},
   "source": [
    "PSDDF has an array that limits the length of the name. Currently, I think the max length is 17. If files aren't being created try saving the file to a short directory."
   ]
  },
  {
   "cell_type": "code",
   "execution_count": 24,
   "metadata": {},
   "outputs": [],
   "source": [
    "process = subprocess.Popen(FolderDir + r'\\PSDDF.exe', stdin = subprocess.PIPE) # Run the executable\n",
    "try:\n",
    "    process.communicate(input = localResultsDir.encode()) # Pass the name of the output files # Folder and file name limited to 16 characters\n",
    "except Exception as e: print(e)"
   ]
  },
  {
   "cell_type": "code",
   "execution_count": null,
   "metadata": {},
   "outputs": [],
   "source": []
  }
 ],
 "metadata": {
  "kernelspec": {
   "display_name": "USACE_Work",
   "language": "python",
   "name": "python3"
  },
  "language_info": {
   "codemirror_mode": {
    "name": "ipython",
    "version": 3
   },
   "file_extension": ".py",
   "mimetype": "text/x-python",
   "name": "python",
   "nbconvert_exporter": "python",
   "pygments_lexer": "ipython3",
   "version": "3.11.3"
  },
  "orig_nbformat": 4
 },
 "nbformat": 4,
 "nbformat_minor": 2
}
