{
 "cells": [
  {
   "attachments": {},
   "cell_type": "markdown",
   "metadata": {},
   "source": [
    "The purpose of this code is to run a PSDDF example."
   ]
  },
  {
   "cell_type": "code",
   "execution_count": 58,
   "metadata": {},
   "outputs": [],
   "source": [
    "import numpy\n",
    "import pandas\n",
    "import matplotlib.pyplot as plt\n",
    "import os\n",
    "import subprocess"
   ]
  },
  {
   "attachments": {},
   "cell_type": "markdown",
   "metadata": {},
   "source": [
    "Folder requirements to run the software:\n",
    "\n",
    "1) PSDDF Executable\n",
    "2) PSI File (Includes all the information necessary for the model definition)\n"
   ]
  },
  {
   "cell_type": "code",
   "execution_count": 59,
   "metadata": {},
   "outputs": [],
   "source": [
    "# Directory of the PSDDF executable\n",
    "# The PSDDF executable should be in the same folder as the PSI file \n",
    "\n",
    "FolderDir = r\"C:\\PSDDF_Work\\PSDDF_Playground\"\n",
    "\n",
    "# Name of the example that should be run\n",
    "ExampleName = \"Example3\"\n",
    "ResultsName = ExampleName + \"_Results\\n\""
   ]
  },
  {
   "attachments": {},
   "cell_type": "markdown",
   "metadata": {},
   "source": [
    "For an unknown reason I need to edit the addamse.tmp file to specify which psi file should be used. If I try to run the file directly (ie. PSDDF \"PSI file\") a new file with the \"PSI file\" name is created and the information needs to be copied into that file. Once the data is copied over than the pSDDF executable can see that information."
   ]
  },
  {
   "cell_type": "code",
   "execution_count": 60,
   "metadata": {},
   "outputs": [],
   "source": [
    "# Open and edit the addamse.tmp file so that the first line is PCP a: \"PSI filename\". There isn't a need to have the file extension\n",
    "addamse_file_Dir = FolderDir + r\"\\addamse.tmp\"\n",
    "addamse_file = open(addamse_file_Dir, \"w\")\n",
    "addamse_file_str = \"PCP                                   a:                                   \" + ExampleName\n",
    "addamse_file.write(addamse_file_str)\n",
    "addamse_file.close()"
   ]
  },
  {
   "attachments": {},
   "cell_type": "markdown",
   "metadata": {},
   "source": [
    "The array that takes in the file name is limited so long directories can't be added. For the time being the files will be stored in a temp folder that will be in the same folder as the executable.\n"
   ]
  },
  {
   "cell_type": "code",
   "execution_count": 61,
   "metadata": {},
   "outputs": [
    {
     "name": "stdout",
     "output_type": "stream",
     "text": [
      "Results Directory: C:\\PSDDF_Work\\PSDDF_Playground\\Temp\n",
      "Temp\n",
      "\n"
     ]
    }
   ],
   "source": [
    "# Make Results File\n",
    "\n",
    "localDir = \"Temp\"\n",
    "ResultsDir = FolderDir + \"\\\\\" + localDir\n",
    "try:\n",
    "    os.makedirs(ResultsDir)\n",
    "except Exception as e: print(e)\n",
    "\n",
    "print(\"Results Directory: {}\".format(ResultsDir))\n",
    "PSDDF_fileInput = \"Temp\\n\" #localDir  + \"\\\\\" + ExampleName + \"\\n\"\n",
    "print(PSDDF_fileInput)"
   ]
  },
  {
   "attachments": {},
   "cell_type": "markdown",
   "metadata": {},
   "source": [
    "Setting stdin = subprocess.PIPE makes a pathway commands that normally would have to be typed in the terminal can be sent through code."
   ]
  },
  {
   "cell_type": "code",
   "execution_count": 65,
   "metadata": {},
   "outputs": [
    {
     "data": {
      "text/plain": [
       "(None, None)"
      ]
     },
     "execution_count": 65,
     "metadata": {},
     "output_type": "execute_result"
    }
   ],
   "source": [
    "# process = subprocess.Popen(FolderDir + r'\\PSDDF.exe', stdin = subprocess.PIPE) # Run the executable\n",
    "process = subprocess.Popen(r\"C:\\Users\\u4hncjjm\\Documents\\PSDDF_3\" + r'\\PSDDF.exe', stdin = subprocess.PIPE) # Run the executable\n",
    "process.communicate(input = \"test3\\n\".encode()) # Pass the name of the output files\n",
    "   "
   ]
  },
  {
   "attachments": {},
   "cell_type": "markdown",
   "metadata": {},
   "source": []
  },
  {
   "attachments": {},
   "cell_type": "markdown",
   "metadata": {},
   "source": []
  }
 ],
 "metadata": {
  "kernelspec": {
   "display_name": "USACE_Work",
   "language": "python",
   "name": "python3"
  },
  "language_info": {
   "codemirror_mode": {
    "name": "ipython",
    "version": 3
   },
   "file_extension": ".py",
   "mimetype": "text/x-python",
   "name": "python",
   "nbconvert_exporter": "python",
   "pygments_lexer": "ipython3",
   "version": "3.11.3"
  },
  "orig_nbformat": 4
 },
 "nbformat": 4,
 "nbformat_minor": 2
}
