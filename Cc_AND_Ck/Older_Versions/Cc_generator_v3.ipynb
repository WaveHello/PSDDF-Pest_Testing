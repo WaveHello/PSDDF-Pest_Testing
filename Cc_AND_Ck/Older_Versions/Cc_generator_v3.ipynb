{
 "cells": [
  {
   "cell_type": "code",
   "execution_count": 2,
   "metadata": {},
   "outputs": [],
   "source": [
    "import numpy as np\n",
    "import pandas as pd\n",
    "import matplotlib.pyplot as plt"
   ]
  },
  {
   "cell_type": "code",
   "execution_count": 3,
   "metadata": {},
   "outputs": [],
   "source": [
    "### Read in values from text file\n",
    "file_path = r\"Cc_Input.txt\"  # Replace with the actual path to your file\n",
    "\n",
    "values = {}\n",
    "with open(file_path, \"r\") as file:\n",
    "    line = file.readline().strip()\n",
    "    while line:\n",
    "        if line.startswith(\"$$\"):\n",
    "            key = line[2:].strip()\n",
    "            value = float(file.readline().strip())\n",
    "            values[key] = value\n",
    "        line = file.readline().strip()"
   ]
  },
  {
   "cell_type": "code",
   "execution_count": 4,
   "metadata": {},
   "outputs": [],
   "source": [
    "### Inputs\n",
    "Pre_ConsolStress = values[\"PRECONSOLIDATION_STRESS\"]\n",
    "Cc = values[\"Cc\"] # Virgin compression slope\n",
    "Cr_ratio = values[\"Cr/Cc\"] # Ratio of C_r to C_c\n",
    "e0 = values[\"e0\"] # Initial void ratio\n",
    "ef = values[\"ef\"] # Final value of void ratio\n",
    "input_num_points = int(values[\"Input_Num_Points\"]) # Number of spaces avalialable for inputs in PSDDF\n"
   ]
  },
  {
   "cell_type": "code",
   "execution_count": 5,
   "metadata": {},
   "outputs": [],
   "source": [
    "num_points = input_num_points + 1 # Add a data point so that when the Cr and Cc arrays are later appened the length is correct"
   ]
  },
  {
   "cell_type": "code",
   "execution_count": 6,
   "metadata": {},
   "outputs": [],
   "source": [
    "# Calculate the maximum eff_stres possible before e becomes negative\n",
    "max_stress = 10**((e0-ef)/Cc + np.log10(Pre_ConsolStress) * (-Cr_ratio + 1))\n",
    "\n",
    "# Percentage of the loading that is reloading (swell)\n",
    "# (Used to calculate the number of points that should be used for the recompression)\n",
    "Perc_reloading = (Pre_ConsolStress-1)/max_stress"
   ]
  },
  {
   "cell_type": "code",
   "execution_count": 7,
   "metadata": {},
   "outputs": [],
   "source": [
    "# Number of points to generate\n",
    "# num_points = 100 + 1\n",
    "\n",
    "# Number of recompression points\n",
    "num_Cr_points = int(num_points * Perc_reloading + 1)\n",
    "if num_Cr_points < 4:\n",
    "    num_Cr_points = 4\n",
    "\n",
    "# Number of virgin compression points\n",
    "num_Cc_points = num_points-num_Cr_points"
   ]
  },
  {
   "cell_type": "code",
   "execution_count": 8,
   "metadata": {},
   "outputs": [],
   "source": [
    "### Define arrays of effective stress points\n",
    "\n",
    "#### Virgin Compression initialization\n",
    "Cc_eff_stress = np.linspace(Pre_ConsolStress, max_stress, num_Cc_points)\n",
    "\n",
    "#### Recompression initializations \n",
    "Cr_eff_stress = np.linspace(1, Pre_ConsolStress,num_Cr_points)"
   ]
  },
  {
   "cell_type": "code",
   "execution_count": 9,
   "metadata": {},
   "outputs": [],
   "source": [
    "### Void ratio points for recompression\n",
    "e_recomp = -1 * Cr_ratio * Cc * np.log10(Cr_eff_stress) + e0\n",
    "\n",
    "### Void ratio for virgin compression\n",
    "\n",
    "# Calculate intercept for Virgin compression line\n",
    "b = e_recomp[-1] + Cc * np.log10(Pre_ConsolStress)\n",
    "\n",
    "# Calulcate void ratios for virgin compression line\n",
    "e_virgin = -Cc * np.log10(Cc_eff_stress) + b\n",
    "\n",
    "### Append the two arrays\n",
    "eff_stress = np.append(Cr_eff_stress, Cc_eff_stress[1:])\n",
    "es = np.append(e_recomp, e_virgin[1:])"
   ]
  },
  {
   "cell_type": "code",
   "execution_count": null,
   "metadata": {},
   "outputs": [],
   "source": []
  }
 ],
 "metadata": {
  "kernelspec": {
   "display_name": "USACE_Work",
   "language": "python",
   "name": "python3"
  },
  "language_info": {
   "codemirror_mode": {
    "name": "ipython",
    "version": 3
   },
   "file_extension": ".py",
   "mimetype": "text/x-python",
   "name": "python",
   "nbconvert_exporter": "python",
   "pygments_lexer": "ipython3",
   "version": "3.11.3"
  },
  "orig_nbformat": 4
 },
 "nbformat": 4,
 "nbformat_minor": 2
}
