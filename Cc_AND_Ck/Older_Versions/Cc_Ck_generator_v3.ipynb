{
 "cells": [
  {
   "cell_type": "code",
   "execution_count": 63,
   "metadata": {},
   "outputs": [],
   "source": [
    "import numpy as np\n",
    "import pandas as pd\n",
    "import matplotlib.pyplot as plt\n",
    "import csv"
   ]
  },
  {
   "cell_type": "code",
   "execution_count": 79,
   "metadata": {},
   "outputs": [
    {
     "name": "stdout",
     "output_type": "stream",
     "text": [
      "[{'Gamma_w (kN/m^3)': 9.81, 'G_s': 2.65}, {'Material_ID': 1.0, 'PRECONSOLIDATION_STRESS': 1.0, 'Cc': 0.9, 'Cr/Cc': 0.21, 'e0': 3.0, 'ef': 0.5, 'Input_Num_Points': 68.0, 'Cv (cm^2/s)': 0.001}, {'Material_ID': 2.0, 'PRECONSOLIDATION_STRESS': 10.0, 'Cc': 10.0, 'Cr/Cc': 10.0, 'e0': 10.0, 'ef': 10.0, 'Input_Num_Points': 10.0, 'Cv (cm^2/s)': 10.0}]\n"
     ]
    }
   ],
   "source": [
    "### Retrieve input paramters\n",
    "input_file_path = r\"Cc_Ck_Input_2.txt\"\n",
    "\n",
    "token = '$$ Material'\n",
    "Material_prop = []\n",
    "current_material_dict = {}\n",
    "\n",
    "with open(input_file_path, \"r\") as file:\n",
    "    line = file.readline().strip()\n",
    "    while line:\n",
    "        if line.startswith(token) and current_material_dict:\n",
    "            # if line starts with token and the dictionary is not\n",
    "            Material_prop.append(current_material_dict) # Add dictionary values to array\n",
    "            current_material_dict = {} # Clear dictionary\n",
    "        # if not retrive next...\n",
    "        key = line[2:].strip() # Material property name\n",
    "        value = float(file.readline().strip()) # Material property value\n",
    "        current_material_dict[key] = value # Store Material property name and value\n",
    "        line = file.readline().strip() # Read next file line\n",
    "Material_prop.append(current_material_dict) # append the last material"
   ]
  },
  {
   "cell_type": "code",
   "execution_count": 68,
   "metadata": {},
   "outputs": [
    {
     "ename": "KeyError",
     "evalue": "'PRECONSOLIDATION_STRESS'",
     "output_type": "error",
     "traceback": [
      "\u001b[1;31m---------------------------------------------------------------------------\u001b[0m",
      "\u001b[1;31mKeyError\u001b[0m                                  Traceback (most recent call last)",
      "Cell \u001b[1;32mIn[68], line 2\u001b[0m\n\u001b[0;32m      1\u001b[0m \u001b[39m### Cc Inputs\u001b[39;00m\n\u001b[1;32m----> 2\u001b[0m Pre_ConsolStress \u001b[39m=\u001b[39m values[\u001b[39m\"\u001b[39;49m\u001b[39mPRECONSOLIDATION_STRESS\u001b[39;49m\u001b[39m\"\u001b[39;49m]\n\u001b[0;32m      3\u001b[0m Cc \u001b[39m=\u001b[39m values[\u001b[39m\"\u001b[39m\u001b[39mCc\u001b[39m\u001b[39m\"\u001b[39m] \u001b[39m# Virgin compression slope\u001b[39;00m\n\u001b[0;32m      4\u001b[0m Cr_ratio \u001b[39m=\u001b[39m values[\u001b[39m\"\u001b[39m\u001b[39mCr/Cc\u001b[39m\u001b[39m\"\u001b[39m] \u001b[39m# Ratio of C_r to C_c\u001b[39;00m\n",
      "\u001b[1;31mKeyError\u001b[0m: 'PRECONSOLIDATION_STRESS'"
     ]
    }
   ],
   "source": [
    "### Cc Inputs\n",
    "Pre_ConsolStress = values[\"PRECONSOLIDATION_STRESS\"]\n",
    "Cc = values[\"Cc\"] # Virgin compression slope\n",
    "Cr_ratio = values[\"Cr/Cc\"] # Ratio of C_r to C_c\n",
    "e0 = values[\"e0\"] # Initial void ratio\n",
    "ef = values[\"ef\"] # Final value of void ratio\n",
    "input_num_points = int(values[\"Input_Num_Points\"]) # Number of spaces avalialable for inputs in PSDDF\n",
    "\n",
    "### Ck Inputs\n",
    "Cv = values[\"Cv (cm^2/s)\"] * 1e-4\n",
    "gamma_w = values[\"Gamma_w (kN/m^3)\"]\n"
   ]
  },
  {
   "cell_type": "code",
   "execution_count": null,
   "metadata": {},
   "outputs": [],
   "source": [
    "num_points = input_num_points + 1 # Add a data point so that when the Cr and Cc arrays are later appened the length is correct"
   ]
  },
  {
   "cell_type": "code",
   "execution_count": null,
   "metadata": {},
   "outputs": [
    {
     "name": "stdout",
     "output_type": "stream",
     "text": [
      "599.4842503189409\n",
      "0.0\n"
     ]
    }
   ],
   "source": [
    "# Calculate the maximum eff_stres possible before e becomes negative\n",
    "max_stress = 10**((e0-ef)/Cc + np.log10(Pre_ConsolStress) * (-Cr_ratio + 1))\n",
    "print(max_stress)\n",
    "# Percentage of the loading that is reloading (swell)\n",
    "# (Used to calculate the number of points that should be used for the recompression)\n",
    "Perc_reloading = (Pre_ConsolStress-1)/max_stress\n",
    "print(Perc_reloading*100)"
   ]
  },
  {
   "cell_type": "code",
   "execution_count": null,
   "metadata": {},
   "outputs": [
    {
     "name": "stdout",
     "output_type": "stream",
     "text": [
      "Number of Cr points: 0.00\n",
      "Number of Cc points: 69.00\n"
     ]
    }
   ],
   "source": [
    "# Number of points to generate\n",
    "# num_points = 100 + 1\n",
    "\n",
    "### Rework this!!! This will likely cause a bug \n",
    "# Number of recompression points\n",
    "num_Cr_points = 0#int(num_points * Perc_reloading + 1)\n",
    "if num_Cr_points < 4 and Pre_ConsolStress > 1:\n",
    "    num_Cr_points = 10\n",
    "print(\"Number of Cr points: {:.2f}\".format(num_Cr_points))\n",
    "\n",
    "# Number of virgin compression points\n",
    "num_Cc_points = num_points-num_Cr_points\n",
    "print(\"Number of Cc points: {:.2f}\".format(num_Cc_points))"
   ]
  },
  {
   "cell_type": "code",
   "execution_count": null,
   "metadata": {},
   "outputs": [],
   "source": [
    "### Define arrays of effective stress points\n",
    "\n",
    "#### Virgin Compression initialization\n",
    "Cc_eff_stress = np.linspace(Pre_ConsolStress, max_stress, num_Cc_points)\n",
    "\n",
    "#### Recompression initializations \n",
    "Cr_eff_stress = np.linspace(1, Pre_ConsolStress,num_Cr_points)\n"
   ]
  },
  {
   "cell_type": "code",
   "execution_count": null,
   "metadata": {},
   "outputs": [],
   "source": [
    "### Void ratio points for recompression\n",
    "e_recomp = -1 * Cr_ratio * Cc * np.log10(Cr_eff_stress) + e0\n",
    "\n",
    "### Void ratio for virgin compression\n",
    "\n",
    "# Calculate intercept for Virgin compression line\n",
    "if len(e_recomp) == 0:\n",
    "    b = e0 + Cc * np.log10(Pre_ConsolStress)\n",
    "else:\n",
    "    b = e_recomp[-1] + Cc * np.log10(Pre_ConsolStress)\n",
    "\n",
    "# Calulcate void ratios for virgin compression line\n",
    "e_virgin = -Cc * np.log10(Cc_eff_stress) + b\n",
    "\n",
    "### Append the two arrays\n",
    "eff_stress = np.append(Cr_eff_stress, Cc_eff_stress[num_Cr_points:])\n",
    "es = np.append(e_recomp, e_virgin[num_Cr_points:])"
   ]
  },
  {
   "cell_type": "markdown",
   "metadata": {},
   "source": [
    "### Plot"
   ]
  },
  {
   "cell_type": "code",
   "execution_count": null,
   "metadata": {},
   "outputs": [
    {
     "ename": "NameError",
     "evalue": "name 'es' is not defined",
     "output_type": "error",
     "traceback": [
      "\u001b[1;31m---------------------------------------------------------------------------\u001b[0m",
      "\u001b[1;31mNameError\u001b[0m                                 Traceback (most recent call last)",
      "Cell \u001b[1;32mIn[1], line 2\u001b[0m\n\u001b[0;32m      1\u001b[0m \u001b[39m# Calc changes in void ratio\u001b[39;00m\n\u001b[1;32m----> 2\u001b[0m delta_es \u001b[39m=\u001b[39m es[num_Cr_points:\u001b[39m-\u001b[39m\u001b[39m1\u001b[39m] \u001b[39m-\u001b[39m es[num_Cr_points\u001b[39m+\u001b[39m\u001b[39m1\u001b[39m:]\n\u001b[0;32m      4\u001b[0m \u001b[39m# Calc volumetric strain\u001b[39;00m\n\u001b[0;32m      5\u001b[0m epsilon_V \u001b[39m=\u001b[39m np\u001b[39m.\u001b[39mcumsum(delta_es)\u001b[39m/\u001b[39m(\u001b[39m1\u001b[39m\u001b[39m+\u001b[39me0)\n",
      "\u001b[1;31mNameError\u001b[0m: name 'es' is not defined"
     ]
    }
   ],
   "source": [
    "# Calc changes in void ratio\n",
    "delta_es = es[num_Cr_points:-1] - es[num_Cr_points+1:]\n",
    "\n",
    "# Calc volumetric strain\n",
    "epsilon_V = np.cumsum(delta_es)/(1+e0)\n",
    "\n",
    "# Calc delta volumetric strain\n",
    "delta_epsilon_V = epsilon_V[:-1] - epsilon_V[1:]\n"
   ]
  },
  {
   "cell_type": "code",
   "execution_count": null,
   "metadata": {},
   "outputs": [
    {
     "name": "stdout",
     "output_type": "stream",
     "text": [
      "## LS- Best fit coefficients ##\n",
      "Slope: 0.8582\n",
      "Intercept: 7.1958\n"
     ]
    }
   ],
   "source": [
    "# Calc delta stress\n",
    "delta_eff_stress = eff_stress[num_Cr_points:-1] - eff_stress[num_Cr_points+1:]\n",
    "\n",
    "# Calc m_v\n",
    "m_v = delta_epsilon_V/delta_eff_stress[1:] #[-/kN]\n",
    "\n",
    "# Calc permeability\n",
    "k = gamma_w * m_v * Cv * 100 #[cm/s]\n",
    "\n",
    "#least-Squares fit of data\n",
    "coefficients = np.polyfit(np.log10(k), es[num_Cr_points + 2:], deg = 1)\n",
    "\n",
    "# Generate the best-fit line\n",
    "best_fit_line = np.polyval(coefficients, np.log10(k))\n",
    "\n",
    "# Print Best fit coefficients\n",
    "print(\"## LS- Best fit coefficients ##\")\n",
    "print(\"Slope: {:.4f}\\nIntercept: {:.4f}\".format(coefficients[0], coefficients[1]))\n"
   ]
  },
  {
   "cell_type": "code",
   "execution_count": null,
   "metadata": {},
   "outputs": [
    {
     "name": "stdout",
     "output_type": "stream",
     "text": [
      "[1.28470514e-05 1.17525610e-06 6.00535312e-07 4.00181422e-07\n",
      " 2.98892992e-07 2.37954275e-07 1.97340014e-07 1.68375005e-07\n",
      " 1.46697499e-07 1.29877329e-07 1.16454431e-07 1.05499274e-07\n",
      " 9.63922718e-08 8.87047117e-08 8.21306142e-08 7.64458112e-08\n",
      " 7.14823578e-08 6.71119742e-08 6.32350068e-08 5.97728791e-08\n",
      " 5.66628078e-08 5.38540320e-08 5.13050722e-08 4.89817050e-08\n",
      " 4.68554459e-08 4.49023972e-08 4.31023620e-08 4.14381557e-08\n",
      " 3.98950659e-08 3.84604241e-08 3.71232629e-08 3.58740411e-08\n",
      " 3.47044189e-08 3.36070752e-08 3.25755572e-08 3.16041552e-08\n",
      " 3.06877991e-08 2.98219715e-08 2.90026345e-08 2.82261675e-08\n",
      " 2.74893154e-08 2.67891432e-08 2.61229979e-08 2.54884753e-08\n",
      " 2.48833919e-08 2.43057598e-08 2.37537657e-08 2.32257518e-08\n",
      " 2.27202000e-08 2.22357169e-08 2.17710219e-08 2.13249355e-08\n",
      " 2.08963700e-08 2.04843204e-08 2.00878569e-08 1.97061181e-08\n",
      " 1.93383044e-08 1.89836730e-08 1.86415330e-08 1.83112405e-08\n",
      " 1.79921952e-08 1.76838362e-08 1.73856395e-08 1.70971145e-08\n",
      " 1.68178016e-08 1.65472698e-08 1.62851144e-08 1.60309552e-08\n",
      " 1.57844344e-08]\n"
     ]
    },
    {
     "data": {
      "image/png": "[encoded data removed]",
      "text/plain": [
       "<Figure size 640x480 with 1 Axes>"
      ]
     },
     "metadata": {},
     "output_type": "display_data"
    }
   ],
   "source": [
    "# Extrapolate values for kv at initial void ratios\n",
    "\n",
    "#least-Squares fit of data\n",
    "e_coefficients = np.polyfit(es[num_Cr_points + 2:], np.log10(k), deg = 1)\n",
    "\n",
    "# Generate the best-fit line\n",
    "k_best_fit_line = 10**np.polyval(e_coefficients, es)"
   ]
  },
  {
   "cell_type": "code",
   "execution_count": null,
   "metadata": {},
   "outputs": [],
   "source": [
    "### Generate Columns for PSDDF\n",
    "\n",
    "### Need three columns void ratio | effective stress | permeability\n",
    "# Before appending the columns together need to add data points to pearmeability data\n",
    "file_path = \"output.csv\"\n",
    "with open(file_path, \"w\", newline=\"\") as csvfile:\n",
    "    writer = csv.writer(csvfile)\n",
    "    writer.writerow([\"e\", \"sigma\", \"k\"])  # Write the header row\n",
    "    writer.writerows(zip([\"{:.3f}\".format(value) for value in es],\\\n",
    "                         [\"{:.2e}\".format(value) for value in eff_stress],\\\n",
    "                         [\"{:.2e}\".format(value) for value in k_best_fit_line]))  # Write the data rows"
   ]
  }
 ],
 "metadata": {
  "kernelspec": {
   "display_name": "USACE_Work",
   "language": "python",
   "name": "python3"
  },
  "language_info": {
   "codemirror_mode": {
    "name": "ipython",
    "version": 3
   },
   "file_extension": ".py",
   "mimetype": "text/x-python",
   "name": "python",
   "nbconvert_exporter": "python",
   "pygments_lexer": "ipython3",
   "version": "3.11.3"
  },
  "orig_nbformat": 4
 },
 "nbformat": 4,
 "nbformat_minor": 2
}
